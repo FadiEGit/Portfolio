{
 "cells": [
  {
   "cell_type": "code",
   "execution_count": 1,
   "metadata": {},
   "outputs": [],
   "source": [
    "def full_text(text):\n",
    "  ayahs = text.replace('\\n\\n','\\n').replace('# ', '').split('\\n')[9:]\n",
    "  ayah_dict = dict(zip(ayahs[0:-1:2],ayahs[1:-2:2]))\n",
    "  return ayah_dict"
   ]
  },
  {
   "cell_type": "code",
   "execution_count": null,
   "metadata": {},
   "outputs": [],
   "source": [
    "import requests"
   ]
  },
  {
   "cell_type": "code",
   "execution_count": null,
   "metadata": {},
   "outputs": [],
   "source": [
    "translation_urls = requests.get('https://api.github.com/repos/hablullah/data-quran/contents/ayah-translation?ref=master').json()"
   ]
  },
  {
   "cell_type": "code",
   "execution_count": null,
   "metadata": {},
   "outputs": [],
   "source": [
    "english_urls = [(url['name'], url['download_url']) for url in translation_urls if url['name'].startswith('en')]"
   ]
  },
  {
   "cell_type": "code",
   "execution_count": null,
   "metadata": {},
   "outputs": [],
   "source": [
    "translations = [full_text(requests.get(url[1]).text) for url in english_urls]"
   ]
  },
  {
   "cell_type": "code",
   "execution_count": null,
   "metadata": {},
   "outputs": [],
   "source": [
    "translations_by_name = [{url[0]:translations[i]} for i,url in enumerate(english_urls)]"
   ]
  },
  {
   "cell_type": "code",
   "execution_count": null,
   "metadata": {},
   "outputs": [],
   "source": [
    "# type(translations_by_name[13]['en-saheeh-quranenc.md'])\n",
    "saheeh_text = [requests.get(url[1]).text for url in english_urls if 'saheeh' in url[1]][0]"
   ]
  },
  {
   "cell_type": "code",
   "execution_count": null,
   "metadata": {},
   "outputs": [],
   "source": [
    "[(s.split('\\n\\n')[0],s.split('\\n\\n')[1],'\\n'.join(s.split('\\n\\n')[2:])) for s in saheeh_text.replace('\\\\[','').replace('\\\\]','').split('#')][1:5]"
   ]
  },
  {
   "cell_type": "code",
   "execution_count": null,
   "metadata": {},
   "outputs": [],
   "source": [
    "# TODO Make this restructuring process into a function\n",
    "# TODO Pull Arabic Quran and restructure similarly\n",
    "# TODO Pull other translations and restructure similarly\n",
    "# TODO Can you bring in surah names (or numbers) for each ayah?\n",
    "# TODO Pull page dictionary\n",
    "# TODO Combine all of the above into a single dictionary of dictionaries\n",
    "\n",
    "# These next 2 belong in their own set of OneNote pages, maybe even their own section\n",
    "# TODO Create surah#:name_of_surah dictionary\n",
    "# TODO Create surah#:tafseer dictionary\n",
    "\n",
    "# TODO Create connection to OneNote\n",
    "# TODO Create a function that converts the dictionary of dictionaries (ayahs) into code for HTML tables\n",
    "# TODO This should produce 1 HTML table per page. So make it a dictionary page#:HTML code\n",
    "# TODO Iterate through this dictionary and make 1 page in OneNote for every 6 elements of this dictionary\n",
    "# TODO The name of this page should consist of first_page_no - last_page_no\n"
   ]
  },
  {
   "cell_type": "code",
   "execution_count": null,
   "metadata": {},
   "outputs": [],
   "source": [
    "proper_translations = []\n",
    "for translation in translations_by_name:\n",
    "  name = list(translation.keys())[0]\n",
    "  length = len(list(translation[name].keys()))\n",
    "  if length == 6235:\n",
    "    proper_translations.append(translation)"
   ]
  },
  {
   "cell_type": "code",
   "execution_count": null,
   "metadata": {},
   "outputs": [],
   "source": [
    "surahs = requests.get('https://raw.githubusercontent.com/hablullah/data-quran/master/surah/surah.json').json()\n"
   ]
  },
  {
   "cell_type": "code",
   "execution_count": null,
   "metadata": {},
   "outputs": [],
   "source": [
    "surah_v_ayah_expanded = [[(l,s['name']) for l in list(range(s['start'],s['end']+1))] for s in surahs.values()]\n",
    "surah_v_ayah = dict([item for sublist in surah_v_ayah_expanded for item in sublist])\n",
    "surah = {'surah':surah_v_ayah}"
   ]
  },
  {
   "cell_type": "code",
   "execution_count": null,
   "metadata": {},
   "outputs": [],
   "source": [
    "arabic_text = requests.get('https://raw.githubusercontent.com/hablullah/data-quran/master/ayah-text/simple-min.md').text"
   ]
  },
  {
   "cell_type": "code",
   "execution_count": null,
   "metadata": {},
   "outputs": [],
   "source": [
    "page_nos = requests.get('https://raw.githubusercontent.com/hablullah/data-quran/master/meta/page.json').json()"
   ]
  },
  {
   "cell_type": "code",
   "execution_count": null,
   "metadata": {},
   "outputs": [],
   "source": [
    "pages = {}\n",
    "for page in page_nos.keys():\n",
    "  start = page_nos[page]['start']\n",
    "  end = page_nos[page]['end']\n",
    "  for i in range(start, end+1):\n",
    "    pages[i] = page\n",
    "pages # This is a dictionary that maps an ayah number to the page it's on"
   ]
  },
  {
   "cell_type": "code",
   "execution_count": null,
   "metadata": {},
   "outputs": [],
   "source": [
    "access_token = 'EwCYA8l6BAAUkj1NuJYtTVha+Mogk+HEiPbQo04AAR8A8kwzrsCCGPVme1AM6k8e+amVWxjmPYqYSNDKR62eb3YSP6wV9/66Wp8jGnwvmef+jlyr5NW0VhBSk+qX03ZIHiQdsywiPyeUtXMei5Cpzvrp4IWaCYtiMoKyeSxU2oJ1pGNBf3ME5Loqe1pY/foR3yt7E2e2QsjnsaYM3Qe7kzN9O7gNqTRB/tnyfbUphnvjf5U0IlaKUlftVtgqP9JbecftfG7bEkfOyiA0XTQ9TFmFJPPoWiFnYP4pPHRLy84ttuy1EERrcIIfO6F8RyyJpWv3W6dFwtP4zmvupnGPgCfzsrh89EhHyK3BDDMQpVQjukaDBuMLG/JCx/I17lkDZgAACOMcRn7lhYj/aALOdRKPqqPjCnBwkGBR3dE5oE6t5RiLQ9rlRrwUmnYITF2o/g812+/U7mKFkEaTPWSXxU9FziM6/lZIOKbDQtABNPvHWiRVUVDTFUW/F7/ibA5tPOEcrBuhx+MJeye1fXwSsVEMsuFW8D+Zn20xc0ohcdEkpLj3vZwZ8H5tZGAGFbVCd6H/060syAui8BQ8EyC6iWiJ+SV3Tdmo6/Y0gbdfi/ai/BFPcaVeiyFmvY8WwVjFj3u7fvPtMylpdaL9hnqDeT0wIEHfl7uI/qYLrrC2aWhuSCkJT+kBb+oZcAcQRT42/9tJ8F3kJ8ew65siLLASwFVzYkx1v4tLD9x3g3AN/70aWSIMpBz7AWUmHU31jssjt+UMT6fD12hnU4wnq2ccSThMgAttI3us6u0sczS3NNDZmDDyboQOqODy1//T4IMPKYArPfoQtaD3hyq0EdJY5w7hHzm/pdsFBzvH4ZWZNMTMdBbjo25ElxIf+CWne6bCdHvYbi0FTMgmvW0IM0POUzXqidD0rbI3gdPHFVXu3OJoBYNB1WZOSUoCv10P+ZjRz39gPY48QZAofIlgseeJAeI+IXyKb68J4SijTuF06iVzptWAOyQ837UFNSTPU7pE/zhIFkrLKzmQp6H+/I4CAWIhqcZ8nFQCAI65my6p++iwO9S9c0HoMKof4K+GEfr6O3J844sYval3U6D/Lxc2ts2qsWv6a7dOLUEUyIu/b+7FkzczRm6MsZb7vUPGZOv3+KkDZXLdSW7dHmLlGn96nClM7lgnFfTEqtdNU6M3ykkDKwxTbFA34agGedO++ZIAIzKCn6PutAI='"
   ]
  },
  {
   "cell_type": "code",
   "execution_count": null,
   "metadata": {},
   "outputs": [],
   "source": [
    "ayah_section_id = '0-DBE4762DE03DD8F0!57555'\n",
    "onenote_request = f'https://graph.microsoft.com/v1.0/me/onenote/sections/{ayah_section_id}/pages' # POST\n",
    "# TODO Write code to find the proper ayah section id\n",
    "# print(type(arabic_text.replace('\\n','').split(' '))) # TODO Carry this out in a function\n",
    "body = '''\n",
    "\n",
    "<html lang=\"en-US\">\n",
    "    <head>\n",
    "        <title>A third test</title>\n",
    "        <meta http-equiv=\"Content-Type\" content=\"text/html; charset=utf-8\" />\n",
    "    </head>\n",
    "    <body data-absolute-enabled=\"true\" style=\"font-family:Calibri;font-size:11pt\">\n",
    "        <div data-id=\"_default\" style=\"position:static;left:48px;top:120px;bottom:220px;width:668px\">\n",
    "            <table border=\"10\"; Width=\"500\">\n",
    "    <tr> \n",
    "        <td>Cell 1</td> \n",
    "        <td>Cell 2</td> \n",
    "        <td>Cell 3</td> \n",
    "    </tr> \n",
    "    <tr style=\"background-color:blue\"> \n",
    "        <td style=\"text-align:right\">Left</td> \n",
    "        <td style=\"text-align:center\">Middle</td> \n",
    "        <td>Right</td> \n",
    "    </tr> \n",
    "</table>\n",
    "        </div>\n",
    "        <br> </br>\n",
    "        <div data-id=\"new_default\" style=\"position:static;left:48px;top:320px;width:668px\">\n",
    "            <table border=\"10\"; Width=\"500\">\n",
    "    <tr> \n",
    "        <td><a href=\"onenote:https://d.docs.live.net/dbe4762de03dd8f0/Documents/Dish%20Network\">link text</a></td> \n",
    "        <td>Cell 2z</td> \n",
    "        <td>Cell 3z</td> \n",
    "    </tr> \n",
    "    <tr style=\"background-color:blue\"> \n",
    "        <td style=\"text-align:right\">Left</td> \n",
    "        <td style=\"text-align:center\">Middle</td> \n",
    "        <td>Right</td> \n",
    "    </tr> \n",
    "</table>\n",
    "        </div>\n",
    "    </body>\n",
    "</html>\n",
    "'''\n",
    "#cellspacing=\"3\" bgcolor=\"#000000\"  border-collapse: collapse \n",
    "bearer_token = 'EwCgA8l6BAAUkj1NuJYtTVha+Mogk+HEiPbQo04AAT0o1BVhvGAmW1cHjW37H6ZhJDrxKf+fSFF4RyqQo/3XwThuXSCFh2sNCsxyldWhRcrNcLrnPl9v+d/jmvAvXgJ2kNCiNW0Rw6hJjHmQahdz9eLSd00qQuN9cpeA1Ld3G2h1Lmt47BlTveKGgpx7DCBmk0O1eGSuf9D6pESY5IylGqnqNEqyaZ5j5B7y2FAPAW9a+Y4phJtiz1fwTC4eFFaVpWczpgCh7praHuTpTucBOoiJRV0UVUseJKk4mMDQrUf54NrKteI1MODhGoW3f3HqNqt3Hg/Eu1EP2MrQjWwkhotLZyi4Szs4V8RhaOF1yidXp3dgElgErul4PJkjAF0DZgAACNnNGlZaYf5ycALITfhqVs62YsMGtVBGTLImzPFpFUk5tbgEG+J5JE2kONUmjMVjzQDSX0VeAE8CIX13wElHeJs99Dl9/5C7proQ5IHB3DOKPn2Yt4oZstcMihRyP3UFXDQT8VODvqEMlwP/OSuF6RgRbudn114bFSG77mlBUbwQDMskWKh7vlFnN6DTug3om7nKlGiD4ApigJctjxcvP6+rMYFMiqJOeEqsjtuqg/slBL9khK6bqaWcJLpvEjT4bUFHmSYRAET7Q/5x6i2gdP6UGBeJqbNimHbqO6SlgmEQwcM8k2zBaVRR8EWygmLF5bwBDm4a+1UKVDWWO6rqKspOfET4L1L4d31cUSafTYRZzAnESeYFzO2oJ1gnmcBIAC1pq2JJEERB4PzV9ts9yhQldZdNLz0vU4bS1XV4gx65e7J3HOA+y9VIyJIELsi9Iii02HOU2rSJQkHTBa+GTjMtsA4/gNUj58pddLVU2dtwWJBwisZ7iNWXXb5FYEYtjkgm82ywlmptgiYABxGGyCI77t3r6I+JcvVZVcfKeauJicWLx1wZHXRXDcY1OozDBuJ/Ro8in7cOOnfJCal9oixrhUxhR5W98GJk9vakJEBfDFjhd/bX1Rm+FwDoxz9QmD7c+iiAnLy+o7+4K1MBXtNHPWwz4GvIBi8AgKqxjh6iEdmL4Mah+id3DAOErDbioJW2+GUmtmCES6wWCJ7SNLugLGv5Hj3iYe+62aqjQZVSfUTpx/EOGO4suR//SBjgghp2yH9ueVV1Q5I6A24m0KIuD+GzRXR62D8uoXgId6EMVHwSjUPB9fupNE5aXtDL2LVJAsjb312ho5e0Ag=='\n",
    "test_post = requests.post(url=onenote_request,data=body.encode('utf-8'),headers={'Content-Type':'application/xhtml+xml', 'Authorization':f'Bearer {access_token}'})"
   ]
  },
  {
   "cell_type": "code",
   "execution_count": null,
   "metadata": {},
   "outputs": [],
   "source": [
    "newpageid = '0-4b53db717d9044bba776b585a7c997b4!6-DBE4762DE03DD8F0!57555'\n",
    "page_request = f'https://graph.microsoft.com/v1.0/me/onenote/pages/{newpageid}'\n",
    "page = requests.get(url=page_request,headers={'Content-Type':'application/xhtml+xml', 'Authorization':f'Bearer {access_token}'})"
   ]
  },
  {
   "cell_type": "code",
   "execution_count": null,
   "metadata": {},
   "outputs": [],
   "source": [
    "newcontent = page.json()['contentUrl']\n",
    "nc = requests.get(newcontent, headers=headers)"
   ]
  },
  {
   "cell_type": "code",
   "execution_count": null,
   "metadata": {},
   "outputs": [],
   "source": [
    "patch_request = f'https://graph.microsoft.com/v1.0/me/onenote/pages/0-4b53db717d9044bba776b585a7c997b4!6-DBE4762DE03DD8F0!57555/content'"
   ]
  },
  {
   "cell_type": "code",
   "execution_count": null,
   "metadata": {},
   "outputs": [],
   "source": [
    "headers={'Content-Type':'application/xhtml+xml', 'Authorization':f'Bearer {access_token}'}"
   ]
  },
  {
   "cell_type": "code",
   "execution_count": null,
   "metadata": {},
   "outputs": [],
   "source": [
    "test_patch = requests.patch(url=patch_request, data={'d':'45'},headers={'Content-Type':'application/xhtml+xml', 'Authorization':f'Bearer {access_token}'})"
   ]
  },
  {
   "cell_type": "code",
   "execution_count": null,
   "metadata": {},
   "outputs": [],
   "source": [
    "arabic_text[912:1050].replace('\\n\\n#','').split('\\n\\n')"
   ]
  },
  {
   "cell_type": "code",
   "execution_count": null,
   "metadata": {},
   "outputs": [],
   "source": [
    "requests.get('https://graph.microsoft.com/v1.0/me/onenote/notebooks/0-DBE4762DE03DD8F0!54305',headers={'Content-Type':'application/xhtml+xml', 'Authorization':f'Bearer {bearer_token}'}).text"
   ]
  }
 ],
 "metadata": {
  "kernelspec": {
   "display_name": "Python 3.10.4 64-bit",
   "language": "python",
   "name": "python3"
  },
  "language_info": {
   "codemirror_mode": {
    "name": "ipython",
    "version": 3
   },
   "file_extension": ".py",
   "mimetype": "text/x-python",
   "name": "python",
   "nbconvert_exporter": "python",
   "pygments_lexer": "ipython3",
   "version": "3.10.4"
  },
  "orig_nbformat": 4,
  "vscode": {
   "interpreter": {
    "hash": "3ad933181bd8a04b432d3370b9dc3b0662ad032c4dfaa4e4f1596c548f763858"
   }
  }
 },
 "nbformat": 4,
 "nbformat_minor": 2
}
